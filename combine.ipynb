{
 "cells": [
  {
   "cell_type": "code",
   "execution_count": 5,
   "metadata": {},
   "outputs": [
    {
     "name": "stdout",
     "output_type": "stream",
     "text": [
      "Combined data saved successfully.\n"
     ]
    }
   ],
   "source": [
    "import pandas as pd\n",
    "\n",
    "# Set the directory where your CSV files are located\n",
    "folder_path = 'csv'\n",
    "\n",
    "# List of CSV files to combine\n",
    "file_names = ['2023.10.csv', '2023.11.csv','2023.12.csv']\n",
    "\n",
    "# Initialize an empty list to store DataFrames\n",
    "dataframes = []\n",
    "\n",
    "# Loop through each file and read its data into a DataFrame\n",
    "for file_name in file_names:\n",
    "    file_path = folder_path + '/' + file_name\n",
    "    \n",
    "    # Read the CSV file into a DataFrame and append it to the list\n",
    "    current_data = pd.read_csv(file_path)\n",
    "    dataframes.append(current_data)\n",
    "\n",
    "# Concatenate the list of DataFrames into one DataFrame\n",
    "combined_data = pd.concat(dataframes, ignore_index=True)\n",
    "\n",
    "# Save the combined data to a new CSV file\n",
    "combined_data.to_csv(folder_path + '/combined_data.csv', index=False)\n",
    "\n",
    "print(\"Combined data saved successfully.\")\n"
   ]
  }
 ],
 "metadata": {
  "kernelspec": {
   "display_name": "dev",
   "language": "python",
   "name": "python3"
  },
  "language_info": {
   "codemirror_mode": {
    "name": "ipython",
    "version": 3
   },
   "file_extension": ".py",
   "mimetype": "text/x-python",
   "name": "python",
   "nbconvert_exporter": "python",
   "pygments_lexer": "ipython3",
   "version": "3.10.13"
  }
 },
 "nbformat": 4,
 "nbformat_minor": 2
}
